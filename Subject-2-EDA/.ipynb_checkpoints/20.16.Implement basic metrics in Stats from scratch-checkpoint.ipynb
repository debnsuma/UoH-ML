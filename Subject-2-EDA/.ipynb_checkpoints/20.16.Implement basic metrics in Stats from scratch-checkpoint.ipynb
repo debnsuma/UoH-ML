{
 "cells": [
  {
   "cell_type": "markdown",
   "id": "entire-array",
   "metadata": {},
   "source": [
    "# Implement basic metrics in Stats from scratch\n",
    "\n",
    "https://www.hackerrank.com/contests/diploma-in-ai-and-ml-uoh/challenges/implement-basic-metrics-in-stats-from-scratch"
   ]
  },
  {
   "cell_type": "markdown",
   "id": "widespread-midwest",
   "metadata": {},
   "source": [
    "<img src=\"problem1.png\">"
   ]
  },
  {
   "cell_type": "markdown",
   "id": "narrative-tower",
   "metadata": {},
   "source": [
    "## Mean"
   ]
  },
  {
   "cell_type": "code",
   "execution_count": 2,
   "id": "motivated-royal",
   "metadata": {},
   "outputs": [],
   "source": [
    "import numpy as np\n",
    "import random \n",
    "\n",
    "arr = np.random.randint(1, 100, 2000)\n",
    "arr2 = [random.randint(0,50) for _ in range(1000000)] "
   ]
  },
  {
   "cell_type": "code",
   "execution_count": 3,
   "id": "contained-april",
   "metadata": {},
   "outputs": [],
   "source": [
    "def mean(x):\n",
    "    \n",
    "    result = sum(x)/len(x)\n",
    "    \n",
    "    return result"
   ]
  },
  {
   "cell_type": "code",
   "execution_count": 4,
   "id": "talented-sapphire",
   "metadata": {},
   "outputs": [
    {
     "name": "stdout",
     "output_type": "stream",
     "text": [
      "49.4995\n"
     ]
    }
   ],
   "source": [
    "my_mean = mean(list(arr))\n",
    "print(my_mean)"
   ]
  },
  {
   "cell_type": "code",
   "execution_count": 5,
   "id": "hidden-plastic",
   "metadata": {},
   "outputs": [
    {
     "name": "stdout",
     "output_type": "stream",
     "text": [
      "49.4995\n"
     ]
    }
   ],
   "source": [
    "np_mean = np.mean(arr)\n",
    "print(np_mean)"
   ]
  },
  {
   "cell_type": "code",
   "execution_count": 6,
   "id": "homeless-violence",
   "metadata": {},
   "outputs": [
    {
     "name": "stdout",
     "output_type": "stream",
     "text": [
      "25.008122\n"
     ]
    }
   ],
   "source": [
    "my_mean = mean(list(arr2))\n",
    "print(my_mean)"
   ]
  },
  {
   "cell_type": "code",
   "execution_count": 7,
   "id": "american-payroll",
   "metadata": {},
   "outputs": [
    {
     "name": "stdout",
     "output_type": "stream",
     "text": [
      "25.008122\n"
     ]
    }
   ],
   "source": [
    "np_mean = np.mean(arr2)\n",
    "print(np_mean)"
   ]
  },
  {
   "cell_type": "markdown",
   "id": "continental-enough",
   "metadata": {},
   "source": [
    "## Median"
   ]
  },
  {
   "cell_type": "code",
   "execution_count": 9,
   "id": "fifteen-commercial",
   "metadata": {},
   "outputs": [],
   "source": [
    "import numpy as np\n",
    "arr = list(np.random.randint(1, 100, 2000))\n",
    "arr2 = [random.randint(0,50) for _ in range(1000000)] "
   ]
  },
  {
   "cell_type": "code",
   "execution_count": 10,
   "id": "processed-vector",
   "metadata": {},
   "outputs": [],
   "source": [
    "def median(x):\n",
    "    x = sorted(x)\n",
    "    _len = len(x)\n",
    "    ix = _len//2 - 1\n",
    "    \n",
    "    if _len%2 == 0:\n",
    "        result = (x[ix] + x[ix+1]) / 2\n",
    "    else:\n",
    "        result = x[ix+1]\n",
    "    \n",
    "    return result"
   ]
  },
  {
   "cell_type": "code",
   "execution_count": 11,
   "id": "associate-necessity",
   "metadata": {
    "scrolled": true
   },
   "outputs": [
    {
     "data": {
      "text/plain": [
       "51.0"
      ]
     },
     "execution_count": 11,
     "metadata": {},
     "output_type": "execute_result"
    }
   ],
   "source": [
    "median(arr)"
   ]
  },
  {
   "cell_type": "code",
   "execution_count": 12,
   "id": "mechanical-repair",
   "metadata": {},
   "outputs": [
    {
     "data": {
      "text/plain": [
       "51.0"
      ]
     },
     "execution_count": 12,
     "metadata": {},
     "output_type": "execute_result"
    }
   ],
   "source": [
    "np.median(arr)"
   ]
  },
  {
   "cell_type": "code",
   "execution_count": 14,
   "id": "analyzed-frederick",
   "metadata": {},
   "outputs": [
    {
     "data": {
      "text/plain": [
       "(25.0, 25.0)"
      ]
     },
     "execution_count": 14,
     "metadata": {},
     "output_type": "execute_result"
    }
   ],
   "source": [
    "median(arr2), np.median(arr2)"
   ]
  },
  {
   "cell_type": "markdown",
   "id": "comfortable-milan",
   "metadata": {},
   "source": [
    "## Variance "
   ]
  },
  {
   "cell_type": "code",
   "execution_count": 15,
   "id": "conservative-duration",
   "metadata": {},
   "outputs": [],
   "source": [
    "import numpy as np\n",
    "arr = list(np.random.randint(1, 100, 2000))\n",
    "arr2 = [random.randint(0,50) for _ in range(1000000)] "
   ]
  },
  {
   "cell_type": "code",
   "execution_count": 16,
   "id": "military-orleans",
   "metadata": {},
   "outputs": [],
   "source": [
    "def variance(x):\n",
    "    \n",
    "    _mean = mean(x)\n",
    "    diff_mean = [ i-_mean for i in x]\n",
    "    diff_sq = map(lambda x: x**2, diff_mean)\n",
    "    \n",
    "    result = sum(diff_sq)/len(x)\n",
    "    \n",
    "    return result\n",
    "    "
   ]
  },
  {
   "cell_type": "code",
   "execution_count": 17,
   "id": "floral-belarus",
   "metadata": {},
   "outputs": [
    {
     "data": {
      "text/plain": [
       "796.8740999999993"
      ]
     },
     "execution_count": 17,
     "metadata": {},
     "output_type": "execute_result"
    }
   ],
   "source": [
    "variance(arr)"
   ]
  },
  {
   "cell_type": "code",
   "execution_count": 18,
   "id": "strange-macro",
   "metadata": {},
   "outputs": [
    {
     "data": {
      "text/plain": [
       "796.8741"
      ]
     },
     "execution_count": 18,
     "metadata": {},
     "output_type": "execute_result"
    }
   ],
   "source": [
    "np.var(arr)"
   ]
  },
  {
   "cell_type": "code",
   "execution_count": 19,
   "id": "vietnamese-carpet",
   "metadata": {},
   "outputs": [
    {
     "data": {
      "text/plain": [
       "216.50547779942247"
      ]
     },
     "execution_count": 19,
     "metadata": {},
     "output_type": "execute_result"
    }
   ],
   "source": [
    "variance(arr2)"
   ]
  },
  {
   "cell_type": "code",
   "execution_count": 20,
   "id": "caroline-pizza",
   "metadata": {},
   "outputs": [
    {
     "data": {
      "text/plain": [
       "216.5054777993749"
      ]
     },
     "execution_count": 20,
     "metadata": {},
     "output_type": "execute_result"
    }
   ],
   "source": [
    "np.var(arr2)"
   ]
  },
  {
   "cell_type": "code",
   "execution_count": 21,
   "id": "inclusive-skiing",
   "metadata": {},
   "outputs": [],
   "source": [
    "arr = list(np.random.random(2000))"
   ]
  },
  {
   "cell_type": "code",
   "execution_count": 22,
   "id": "involved-bahamas",
   "metadata": {},
   "outputs": [
    {
     "data": {
      "text/plain": [
       "0.08370960910216124"
      ]
     },
     "execution_count": 22,
     "metadata": {},
     "output_type": "execute_result"
    }
   ],
   "source": [
    "variance(arr)"
   ]
  },
  {
   "cell_type": "code",
   "execution_count": 23,
   "id": "handmade-sierra",
   "metadata": {},
   "outputs": [
    {
     "data": {
      "text/plain": [
       "0.0837096091021613"
      ]
     },
     "execution_count": 23,
     "metadata": {},
     "output_type": "execute_result"
    }
   ],
   "source": [
    "np.var(arr)"
   ]
  },
  {
   "cell_type": "markdown",
   "id": "protecting-brake",
   "metadata": {},
   "source": [
    "## Standard Deviation"
   ]
  },
  {
   "cell_type": "code",
   "execution_count": 24,
   "id": "weighted-islam",
   "metadata": {},
   "outputs": [],
   "source": [
    "import numpy as np\n",
    "arr = list(np.random.randint(1, 100, 2000))\n",
    "arr2 = [random.randint(0,50) for _ in range(1000000)] "
   ]
  },
  {
   "cell_type": "code",
   "execution_count": 25,
   "id": "complicated-johnson",
   "metadata": {},
   "outputs": [],
   "source": [
    "def sd(x):\n",
    "    _variance = variance(x)\n",
    "    \n",
    "    return _variance ** .5"
   ]
  },
  {
   "cell_type": "code",
   "execution_count": 26,
   "id": "rental-session",
   "metadata": {},
   "outputs": [
    {
     "data": {
      "text/plain": [
       "28.276476018061405"
      ]
     },
     "execution_count": 26,
     "metadata": {},
     "output_type": "execute_result"
    }
   ],
   "source": [
    "sd(arr)"
   ]
  },
  {
   "cell_type": "code",
   "execution_count": 27,
   "id": "homeless-currency",
   "metadata": {},
   "outputs": [
    {
     "data": {
      "text/plain": [
       "28.276476018061373"
      ]
     },
     "execution_count": 27,
     "metadata": {},
     "output_type": "execute_result"
    }
   ],
   "source": [
    "np.std(arr)"
   ]
  },
  {
   "cell_type": "code",
   "execution_count": 28,
   "id": "fossil-heart",
   "metadata": {},
   "outputs": [
    {
     "data": {
      "text/plain": [
       "(14.728777661117212, 14.728777661114856)"
      ]
     },
     "execution_count": 28,
     "metadata": {},
     "output_type": "execute_result"
    }
   ],
   "source": [
    "sd(arr2), np.std(arr2) "
   ]
  },
  {
   "cell_type": "markdown",
   "id": "unknown-transportation",
   "metadata": {},
   "source": [
    "## Percentile"
   ]
  },
  {
   "cell_type": "code",
   "execution_count": 29,
   "id": "committed-seventh",
   "metadata": {},
   "outputs": [],
   "source": [
    "import numpy as np\n",
    "arr = list(np.random.randint(1, 100, 2000))"
   ]
  },
  {
   "cell_type": "code",
   "execution_count": 30,
   "id": "plain-diameter",
   "metadata": {},
   "outputs": [],
   "source": [
    "def percentile(x, p):\n",
    "    p = p/100\n",
    "\n",
    "    x_sorted = sorted(x)\n",
    "    x_len = len(x_sorted)\n",
    "    if x_len > 1:\n",
    "        x_min, x_max = x_sorted[::x_len-1]\n",
    "    else:\n",
    "        x_min = x_max = x[0] \n",
    "\n",
    "    ix = x_len * p\n",
    "    ix = round(ix) - 1\n",
    "\n",
    "    result = x_sorted[ix]\n",
    "    \n",
    "    return result\n",
    "\n",
    "    "
   ]
  },
  {
   "cell_type": "code",
   "execution_count": 31,
   "id": "hungry-vintage",
   "metadata": {},
   "outputs": [
    {
     "data": {
      "text/plain": [
       "50.0"
      ]
     },
     "execution_count": 31,
     "metadata": {},
     "output_type": "execute_result"
    }
   ],
   "source": [
    "np.percentile(arr, 50)"
   ]
  },
  {
   "cell_type": "code",
   "execution_count": 32,
   "id": "clean-sullivan",
   "metadata": {},
   "outputs": [
    {
     "data": {
      "text/plain": [
       "50"
      ]
     },
     "execution_count": 32,
     "metadata": {},
     "output_type": "execute_result"
    }
   ],
   "source": [
    "percentile(arr, 50)"
   ]
  },
  {
   "cell_type": "code",
   "execution_count": 34,
   "id": "interior-permission",
   "metadata": {},
   "outputs": [
    {
     "data": {
      "text/plain": [
       "25"
      ]
     },
     "execution_count": 34,
     "metadata": {},
     "output_type": "execute_result"
    }
   ],
   "source": [
    "percentile(arr2, 50)"
   ]
  },
  {
   "cell_type": "code",
   "execution_count": 35,
   "id": "unlimited-coaching",
   "metadata": {},
   "outputs": [
    {
     "data": {
      "text/plain": [
       "25.0"
      ]
     },
     "execution_count": 35,
     "metadata": {},
     "output_type": "execute_result"
    }
   ],
   "source": [
    "np.percentile(arr2, 50)"
   ]
  },
  {
   "cell_type": "code",
   "execution_count": 36,
   "id": "experimental-andrew",
   "metadata": {},
   "outputs": [],
   "source": [
    "arr = np.random.randint(1, 10000, size=10000)"
   ]
  },
  {
   "cell_type": "code",
   "execution_count": 37,
   "id": "incredible-storage",
   "metadata": {},
   "outputs": [
    {
     "data": {
      "text/plain": [
       "9464.05"
      ]
     },
     "execution_count": 37,
     "metadata": {},
     "output_type": "execute_result"
    }
   ],
   "source": [
    "np.percentile(arr, 95)"
   ]
  },
  {
   "cell_type": "code",
   "execution_count": 38,
   "id": "quiet-ending",
   "metadata": {},
   "outputs": [
    {
     "data": {
      "text/plain": [
       "9464"
      ]
     },
     "execution_count": 38,
     "metadata": {},
     "output_type": "execute_result"
    }
   ],
   "source": [
    "percentile(list(arr), 95)"
   ]
  },
  {
   "cell_type": "code",
   "execution_count": 39,
   "id": "systematic-delay",
   "metadata": {},
   "outputs": [
    {
     "data": {
      "text/plain": [
       "5011.0"
      ]
     },
     "execution_count": 39,
     "metadata": {},
     "output_type": "execute_result"
    }
   ],
   "source": [
    "np.percentile(arr, 50)"
   ]
  },
  {
   "cell_type": "code",
   "execution_count": 40,
   "id": "reported-figure",
   "metadata": {},
   "outputs": [
    {
     "data": {
      "text/plain": [
       "5011"
      ]
     },
     "execution_count": 40,
     "metadata": {},
     "output_type": "execute_result"
    }
   ],
   "source": [
    "percentile(arr, 50)"
   ]
  },
  {
   "cell_type": "code",
   "execution_count": 41,
   "id": "apparent-resident",
   "metadata": {},
   "outputs": [
    {
     "data": {
      "text/plain": [
       "5011.0"
      ]
     },
     "execution_count": 41,
     "metadata": {},
     "output_type": "execute_result"
    }
   ],
   "source": [
    "np.median(arr)"
   ]
  },
  {
   "cell_type": "code",
   "execution_count": 42,
   "id": "addressed-immunology",
   "metadata": {},
   "outputs": [
    {
     "data": {
      "text/plain": [
       "5011.0"
      ]
     },
     "execution_count": 42,
     "metadata": {},
     "output_type": "execute_result"
    }
   ],
   "source": [
    "median(arr)"
   ]
  },
  {
   "cell_type": "code",
   "execution_count": 43,
   "id": "protective-uruguay",
   "metadata": {},
   "outputs": [
    {
     "data": {
      "text/plain": [
       "(25.0, 25.0)"
      ]
     },
     "execution_count": 43,
     "metadata": {},
     "output_type": "execute_result"
    }
   ],
   "source": [
    "np.median(arr2), median(arr2)"
   ]
  },
  {
   "cell_type": "markdown",
   "id": "impaired-multimedia",
   "metadata": {},
   "source": [
    "## IQR"
   ]
  },
  {
   "cell_type": "code",
   "execution_count": 44,
   "id": "adapted-invite",
   "metadata": {},
   "outputs": [],
   "source": [
    "import numpy as np\n",
    "arr = list(np.random.randint(1, 100, 2000))\n",
    "arr2 = [random.randint(0,50) for _ in range(1000000)] "
   ]
  },
  {
   "cell_type": "code",
   "execution_count": 45,
   "id": "refined-medium",
   "metadata": {},
   "outputs": [],
   "source": [
    "def iqr(x):\n",
    "    q1 = percentile(x, 25)\n",
    "    q2 = percentile(x, 50) \n",
    "    q3 = percentile(x, 75)\n",
    "    q4 = percentile(x, 100)\n",
    "    \n",
    "    iqr = q3 - q1 \n",
    "    \n",
    "    return iqr"
   ]
  },
  {
   "cell_type": "code",
   "execution_count": 46,
   "id": "extraordinary-anderson",
   "metadata": {},
   "outputs": [
    {
     "data": {
      "text/plain": [
       "49"
      ]
     },
     "execution_count": 46,
     "metadata": {},
     "output_type": "execute_result"
    }
   ],
   "source": [
    "iqr(arr)"
   ]
  },
  {
   "cell_type": "code",
   "execution_count": 48,
   "id": "israeli-horizon",
   "metadata": {},
   "outputs": [
    {
     "data": {
      "text/plain": [
       "49.0"
      ]
     },
     "execution_count": 48,
     "metadata": {},
     "output_type": "execute_result"
    }
   ],
   "source": [
    "from scipy import stats\n",
    "\n",
    "stats.iqr(arr, interpolation = 'midpoint')"
   ]
  },
  {
   "cell_type": "code",
   "execution_count": 49,
   "id": "elder-approval",
   "metadata": {},
   "outputs": [
    {
     "data": {
      "text/plain": [
       "26"
      ]
     },
     "execution_count": 49,
     "metadata": {},
     "output_type": "execute_result"
    }
   ],
   "source": [
    "iqr(arr2)"
   ]
  },
  {
   "cell_type": "code",
   "execution_count": 50,
   "id": "everyday-pitch",
   "metadata": {},
   "outputs": [
    {
     "data": {
      "text/plain": [
       "26.0"
      ]
     },
     "execution_count": 50,
     "metadata": {},
     "output_type": "execute_result"
    }
   ],
   "source": [
    "stats.iqr(arr2, interpolation = 'midpoint')"
   ]
  },
  {
   "cell_type": "markdown",
   "id": "patent-affiliation",
   "metadata": {},
   "source": [
    "## Median Absolute Deviation"
   ]
  },
  {
   "cell_type": "code",
   "execution_count": 56,
   "id": "double-julian",
   "metadata": {},
   "outputs": [],
   "source": [
    "import numpy as np\n",
    "\n",
    "arr = list(np.random.randint(1, 100, 2000))\n",
    "arr2 = [random.randint(0,50) for _ in range(1000000)] "
   ]
  },
  {
   "cell_type": "code",
   "execution_count": 62,
   "id": "sporting-moscow",
   "metadata": {},
   "outputs": [],
   "source": [
    "def mad(x):\n",
    "    \n",
    "    x_sorted = sorted(x)\n",
    "    _median = median(x)\n",
    "    \n",
    "    x_median_diff = [ abs(i - _median) for i in x_sorted]\n",
    "    x_median_diff_sorted = sorted(x_median_diff)\n",
    "    result = median(x_median_diff_sorted)\n",
    "    \n",
    "    return result\n",
    "    \n"
   ]
  },
  {
   "cell_type": "code",
   "execution_count": 63,
   "id": "acknowledged-assurance",
   "metadata": {},
   "outputs": [],
   "source": [
    "from statsmodels import robust\n",
    "from scipy import stats"
   ]
  },
  {
   "cell_type": "code",
   "execution_count": 64,
   "id": "pediatric-relation",
   "metadata": {},
   "outputs": [
    {
     "data": {
      "text/plain": [
       "(25.0, 13.0)"
      ]
     },
     "execution_count": 64,
     "metadata": {},
     "output_type": "execute_result"
    }
   ],
   "source": [
    "stats.median_abs_deviation(arr), stats.median_abs_deviation(arr2)"
   ]
  },
  {
   "cell_type": "code",
   "execution_count": 67,
   "id": "pharmaceutical-dragon",
   "metadata": {},
   "outputs": [
    {
     "data": {
      "text/plain": [
       "(25.0, 13.0)"
      ]
     },
     "execution_count": 67,
     "metadata": {},
     "output_type": "execute_result"
    }
   ],
   "source": [
    "mad(arr), mad(arr2)"
   ]
  },
  {
   "cell_type": "code",
   "execution_count": 65,
   "id": "champion-flush",
   "metadata": {
    "scrolled": true
   },
   "outputs": [
    {
     "data": {
      "text/plain": [
       "(37.065055462640046, 19.273828840572826)"
      ]
     },
     "execution_count": 65,
     "metadata": {},
     "output_type": "execute_result"
    }
   ],
   "source": [
    "robust.mad(arr), robust.mad(arr2)"
   ]
  }
 ],
 "metadata": {
  "kernelspec": {
   "display_name": "conda_python3",
   "language": "python",
   "name": "conda_python3"
  },
  "language_info": {
   "codemirror_mode": {
    "name": "ipython",
    "version": 3
   },
   "file_extension": ".py",
   "mimetype": "text/x-python",
   "name": "python",
   "nbconvert_exporter": "python",
   "pygments_lexer": "ipython3",
   "version": "3.6.13"
  },
  "toc": {
   "base_numbering": 1,
   "nav_menu": {},
   "number_sections": true,
   "sideBar": true,
   "skip_h1_title": false,
   "title_cell": "Table of Contents",
   "title_sidebar": "Contents",
   "toc_cell": false,
   "toc_position": {},
   "toc_section_display": true,
   "toc_window_display": true
  }
 },
 "nbformat": 4,
 "nbformat_minor": 5
}
