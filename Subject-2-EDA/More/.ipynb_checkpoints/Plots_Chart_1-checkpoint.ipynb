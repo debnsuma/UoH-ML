{
 "cells": [
  {
   "cell_type": "markdown",
   "id": "sunset-iraqi",
   "metadata": {},
   "source": [
    "# Importing the modules"
   ]
  },
  {
   "cell_type": "code",
   "execution_count": 3,
   "id": "variable-nudist",
   "metadata": {},
   "outputs": [],
   "source": [
    "import numpy as np \n",
    "import pandas as pd \n",
    "\n",
    "import matplotlib.pyplot as plt \n",
    "from matplotlib import style \n",
    "\n",
    "import seaborn as sns\n",
    "\n"
   ]
  },
  {
   "cell_type": "code",
   "execution_count": 5,
   "id": "behind-trainer",
   "metadata": {},
   "outputs": [],
   "source": [
    "# Setting the Color Code for Seaborn to \"TRUE\"\n",
    "sns.set(color_codes=True)\n",
    "\n",
    "style.use(\"seaborn-ticks\")"
   ]
  },
  {
   "cell_type": "markdown",
   "id": "assisted-medicaid",
   "metadata": {},
   "source": [
    "# Tabulation "
   ]
  },
  {
   "cell_type": "code",
   "execution_count": null,
   "id": "optimum-vitamin",
   "metadata": {},
   "outputs": [],
   "source": []
  }
 ],
 "metadata": {
  "kernelspec": {
   "display_name": "conda_python3",
   "language": "python",
   "name": "conda_python3"
  },
  "language_info": {
   "codemirror_mode": {
    "name": "ipython",
    "version": 3
   },
   "file_extension": ".py",
   "mimetype": "text/x-python",
   "name": "python",
   "nbconvert_exporter": "python",
   "pygments_lexer": "ipython3",
   "version": "3.6.13"
  }
 },
 "nbformat": 4,
 "nbformat_minor": 5
}
