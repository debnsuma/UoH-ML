{
 "cells": [
  {
   "cell_type": "markdown",
   "metadata": {},
   "source": [
    "# Question 1 (Climbing Chair)"
   ]
  },
  {
   "cell_type": "code",
   "execution_count": 36,
   "metadata": {},
   "outputs": [],
   "source": [
    "def count_possibility(num):\n",
    "    total = 0\n",
    "    if num == 2:\n",
    "        return 2 \n",
    "    elif num == 1:\n",
    "        return 1\n",
    "    else:\n",
    "        total = total + count_possibility(num-1) + count_possibility(num-2)\n",
    "        \n",
    "    return total\n",
    "        "
   ]
  },
  {
   "cell_type": "code",
   "execution_count": 43,
   "metadata": {},
   "outputs": [
    {
     "data": {
      "text/plain": [
       "2"
      ]
     },
     "execution_count": 43,
     "metadata": {},
     "output_type": "execute_result"
    }
   ],
   "source": [
    "count_possibility(2)"
   ]
  },
  {
   "cell_type": "markdown",
   "metadata": {},
   "source": [
    "# Question 2(Peak Number)"
   ]
  },
  {
   "cell_type": "code",
   "execution_count": 104,
   "metadata": {},
   "outputs": [],
   "source": [
    "a = [2,6,1,4,5,8,4]"
   ]
  },
  {
   "cell_type": "code",
   "execution_count": 105,
   "metadata": {},
   "outputs": [
    {
     "data": {
      "text/plain": [
       "[2, 6, 1, 4, 5, 8, 4]"
      ]
     },
     "execution_count": 105,
     "metadata": {},
     "output_type": "execute_result"
    }
   ],
   "source": [
    "a"
   ]
  },
  {
   "cell_type": "code",
   "execution_count": 252,
   "metadata": {},
   "outputs": [],
   "source": [
    "def find_peak_old(arr, low, high):\n",
    "    \n",
    "    mid = low + (high - low)//2\n",
    "    \n",
    "    if mid == 0 and high - low == 1 and arr[mid] >= arr[mid + 1]:\n",
    "        return mid\n",
    "    elif mid == 0 and high - low == 1 and arr[mid] <= arr[mid + 1]:\n",
    "        return mid+1\n",
    "    \n",
    "    elif ((mid == 0 or arr[mid-1] <= arr[mid]) and \n",
    "        (mid == len(arr)-1 or arr[mid+1] <= arr[mid])):  \n",
    "        return mid\n",
    "    \n",
    "    elif mid - 1 >= 0 and arr[mid-1] >= arr[mid] and arr[mid+1] <= arr[mid]:\n",
    "        high = mid - 1\n",
    "        return find_peak(arr, low, high)\n",
    "    \n",
    "    elif mid - 1 >= 0 and arr[mid-1] <= arr[mid] and arr[mid+1] >= arr[mid]:   \n",
    "        low = mid + 1\n",
    "        return find_peak(arr, low, high)\n",
    "            \n",
    "    return mid"
   ]
  },
  {
   "cell_type": "code",
   "execution_count": 255,
   "metadata": {},
   "outputs": [],
   "source": [
    "def find_peak(arr, low, high):\n",
    "    \n",
    "    mid = (low + high )//2\n",
    "    \n",
    "    # If the mid is the peak\n",
    "    if ((mid == 0 or arr[mid-1] < arr[mid]) and \n",
    "        (mid == len(arr)-1 or arr[mid+1] < arr[mid])):  \n",
    "        return mid\n",
    "    \n",
    "    # If right side of the mid is bigger than the mid\n",
    "    elif mid + 1 < len(arr) and arr[mid+1] > arr[mid]:\n",
    "        low = mid + 1\n",
    "        return find_peak(arr, low, high)\n",
    "    \n",
    "    # If left side of the mid is bigger than the mid\n",
    "    else:\n",
    "        high = mid - 1\n",
    "        return find_peak(arr, low, high)\n",
    "            \n",
    "    return mid"
   ]
  },
  {
   "cell_type": "code",
   "execution_count": null,
   "metadata": {},
   "outputs": [],
   "source": []
  }
 ],
 "metadata": {
  "kernelspec": {
   "display_name": "Python 3",
   "language": "python",
   "name": "python3"
  },
  "language_info": {
   "codemirror_mode": {
    "name": "ipython",
    "version": 3
   },
   "file_extension": ".py",
   "mimetype": "text/x-python",
   "name": "python",
   "nbconvert_exporter": "python",
   "pygments_lexer": "ipython3",
   "version": "3.8.3"
  }
 },
 "nbformat": 4,
 "nbformat_minor": 4
}
