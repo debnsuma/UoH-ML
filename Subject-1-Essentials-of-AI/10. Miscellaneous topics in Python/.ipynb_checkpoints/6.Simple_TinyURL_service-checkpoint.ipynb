{
 "cells": [
  {
   "cell_type": "markdown",
   "metadata": {
    "id": "MITKyKlJcXA3"
   },
   "source": [
    "#### Q. How would you build a TinyURL service? [https://tinyurl.com/]\n",
    "- Popular interview question"
   ]
  },
  {
   "cell_type": "markdown",
   "metadata": {
    "id": "4KwAd_VacXA4"
   },
   "source": [
    "Dict/Hashtable has <K,V> pairs\n",
    "\n",
    "Key = short-URL\n",
    "Value = Long-URL\n",
    "\n",
    "Key: random variable length alphabetic suffix [tinyurl.com/tgwxyc]\n"
   ]
  },
  {
   "cell_type": "code",
   "execution_count": 1,
   "metadata": {
    "id": "d7P20q6BcXA5"
   },
   "outputs": [],
   "source": [
    "import random\n",
    "import string\n",
    "\n",
    "d = {};\n",
    "\n",
    "# given a long URL, get a short URL\n",
    "def getShortURL(longURL):\n",
    "    # length = random value in 6-10\n",
    "    l = random.randint(6,10);\n",
    "    print(l);\n",
    "    \n",
    "    # generate random characters into a string of length l\n",
    "    chars = string.ascii_lowercase\n",
    "    shortURL = ''.join(random.choice(chars) for i in range(l))\n",
    "    print(shortURL);\n",
    "    \n",
    "    # check if this string is already present in dict d\n",
    "    if shortURL in d:\n",
    "        return getShortURL(longURL);\n",
    "    else:\n",
    "        d[shortURL] = longURL;\n",
    "        \n",
    "    print(d)\n",
    "    r = \"https://www.shortURL.com/\"+shortURL\n",
    "    return r;\n",
    "\n"
   ]
  },
  {
   "cell_type": "code",
   "execution_count": 2,
   "metadata": {
    "id": "YS2zMuI9cXA6",
    "outputId": "1873333a-0d0a-41f5-e7dc-3ab9300eb324"
   },
   "outputs": [
    {
     "name": "stdout",
     "output_type": "stream",
     "text": [
      "6\n",
      "vgbmyw\n",
      "{'vgbmyw': 'www.appliedaicourse.com'}\n",
      "https://www.shortURL.com/vgbmyw\n"
     ]
    }
   ],
   "source": [
    "print(getShortURL(\"www.appliedaicourse.com\"))"
   ]
  },
  {
   "cell_type": "code",
   "execution_count": 3,
   "metadata": {
    "id": "Oh2YAGmDcXA7",
    "outputId": "0add9aaf-1c32-400c-869b-17f4128a1006"
   },
   "outputs": [
    {
     "name": "stdout",
     "output_type": "stream",
     "text": [
      "8\n",
      "qenifaxr\n",
      "{'vgbmyw': 'www.appliedaicourse.com', 'qenifaxr': 'www.appliedaicourse.com'}\n",
      "https://www.shortURL.com/qenifaxr\n"
     ]
    }
   ],
   "source": [
    "print(getShortURL(\"www.appliedaicourse.com\"))"
   ]
  },
  {
   "cell_type": "code",
   "execution_count": 10,
   "metadata": {
    "id": "vpj_lru8cXBA"
   },
   "outputs": [],
   "source": [
    "def getLongURL(shortURL):\n",
    "    \n",
    "    # extarct key from URL https://www.shortURL.com/mxzmuis ---> mxzmuis\n",
    "    k = shortURL[25:]\n",
    "    print(k)\n",
    "    \n",
    "    return d[k]\n"
   ]
  },
  {
   "cell_type": "code",
   "execution_count": 11,
   "metadata": {},
   "outputs": [
    {
     "data": {
      "text/plain": [
       "{'vgbmyw': 'www.appliedaicourse.com', 'qenifaxr': 'www.appliedaicourse.com'}"
      ]
     },
     "execution_count": 11,
     "metadata": {},
     "output_type": "execute_result"
    }
   ],
   "source": [
    "d"
   ]
  },
  {
   "cell_type": "code",
   "execution_count": 13,
   "metadata": {
    "id": "neoVkGU6cXBB",
    "outputId": "c887a2d7-44c3-4bf4-fdfb-8258a6743f74",
    "scrolled": true
   },
   "outputs": [
    {
     "name": "stdout",
     "output_type": "stream",
     "text": [
      "qenifaxr\n",
      "www.appliedaicourse.com\n"
     ]
    }
   ],
   "source": [
    "print(getLongURL(\"https://www.shortURL.com/qenifaxr\"))\n"
   ]
  },
  {
   "cell_type": "code",
   "execution_count": 15,
   "metadata": {
    "id": "7bS251jrcXBD",
    "outputId": "a5ef5109-d8ce-4763-b4fb-5974947f9388"
   },
   "outputs": [
    {
     "name": "stdout",
     "output_type": "stream",
     "text": [
      "qenifaxr\n",
      "www.appliedaicourse.com\n"
     ]
    }
   ],
   "source": [
    "print(getLongURL(\"https://www.shortURL.com/qenifaxr\"))"
   ]
  },
  {
   "cell_type": "code",
   "execution_count": 16,
   "metadata": {
    "id": "w_TtsDyTcXBE"
   },
   "outputs": [],
   "source": [
    "# Handle Errors and return None\n",
    "\n",
    "def getLongURL(shortURL):\n",
    "    \n",
    "    # extarct key from URL https://www.shortURL.com/mxzmuis ---> mxzmuis\n",
    "    k = shortURL[25:];\n",
    "    print(k)\n",
    "    \n",
    "    if k in d:\n",
    "        return d[k];\n",
    "    else:\n",
    "        return None;"
   ]
  },
  {
   "cell_type": "code",
   "execution_count": 17,
   "metadata": {
    "id": "130FDFAAcXBF",
    "outputId": "930a22e9-9a7d-4cb3-9969-a456a84503d7"
   },
   "outputs": [
    {
     "name": "stdout",
     "output_type": "stream",
     "text": [
      "abcdef\n",
      "None\n"
     ]
    }
   ],
   "source": [
    "print(getLongURL(\"https://www.shortURL.com/abcdef\"))"
   ]
  },
  {
   "cell_type": "code",
   "execution_count": 19,
   "metadata": {
    "id": "5L2OSS3PcXBG",
    "outputId": "c06955b3-140d-416b-e49e-a0b044365645"
   },
   "outputs": [
    {
     "name": "stdout",
     "output_type": "stream",
     "text": [
      "qenifaxr\n",
      "www.appliedaicourse.com\n"
     ]
    }
   ],
   "source": [
    "print(getLongURL(\"https://www.shortURL.com/qenifaxr\"))\n"
   ]
  },
  {
   "cell_type": "markdown",
   "metadata": {
    "id": "5XjHsH3FcXBG"
   },
   "source": [
    "#### IDEA: We have dict 'd' and these two functions(getShortURL, getLongURL ) that opearete on 'd'. Why not put all these three in a single logical block?\n",
    "- That's where \"Classes\" come in!  Next session: Basics of OOP in Python (for ML)\n",
    "- We will build a ShortURL class."
   ]
  }
 ],
 "metadata": {
  "celltoolbar": "Slideshow",
  "colab": {
   "collapsed_sections": [],
   "name": "Simple TinyURL service.ipynb",
   "provenance": []
  },
  "kernelspec": {
   "display_name": "Python 3",
   "language": "python",
   "name": "python3"
  },
  "language_info": {
   "codemirror_mode": {
    "name": "ipython",
    "version": 3
   },
   "file_extension": ".py",
   "mimetype": "text/x-python",
   "name": "python",
   "nbconvert_exporter": "python",
   "pygments_lexer": "ipython3",
   "version": "3.8.3"
  }
 },
 "nbformat": 4,
 "nbformat_minor": 1
}
