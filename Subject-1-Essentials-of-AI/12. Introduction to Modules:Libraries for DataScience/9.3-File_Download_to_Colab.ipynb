{
 "cells": [
  {
   "cell_type": "code",
   "execution_count": 1,
   "metadata": {
    "colab": {
     "base_uri": "https://localhost:8080/"
    },
    "id": "yq0XalrAdmtZ",
    "outputId": "a06b57e0-48b8-4e03-a17b-f43bb2599a54"
   },
   "outputs": [
    {
     "name": "stdout",
     "output_type": "stream",
     "text": [
      "--2021-03-09 23:15:58--  https://drive.google.com/uc?export=download&id=1kIMNI53gtTTNZrQfjB9ASh8C3K9osTB6\n",
      "Resolving drive.google.com (drive.google.com)... 142.250.71.14\n",
      "Connecting to drive.google.com (drive.google.com)|142.250.71.14|:443... connected.\n",
      "HTTP request sent, awaiting response... 302 Moved Temporarily\n",
      "Location: https://doc-0k-1o-docs.googleusercontent.com/docs/securesc/ha0ro937gcuc7l7deffksulhg5h7mbp1/g8rsk56gdr1ie1s371u6i77neaia9trn/1615311900000/06629147635963609455/*/1kIMNI53gtTTNZrQfjB9ASh8C3K9osTB6?e=download [following]\n",
      "Warning: wildcards not supported in HTTP.\n",
      "--2021-03-09 23:15:59--  https://doc-0k-1o-docs.googleusercontent.com/docs/securesc/ha0ro937gcuc7l7deffksulhg5h7mbp1/g8rsk56gdr1ie1s371u6i77neaia9trn/1615311900000/06629147635963609455/*/1kIMNI53gtTTNZrQfjB9ASh8C3K9osTB6?e=download\n",
      "Resolving doc-0k-1o-docs.googleusercontent.com (doc-0k-1o-docs.googleusercontent.com)... 142.250.71.33\n",
      "Connecting to doc-0k-1o-docs.googleusercontent.com (doc-0k-1o-docs.googleusercontent.com)|142.250.71.33|:443... connected.\n",
      "HTTP request sent, awaiting response... 200 OK\n",
      "Length: 525 [text/plain]\n",
      "Saving to: ‘populations.txt’\n",
      "\n",
      "populations.txt     100%[===================>]     525  --.-KB/s    in 0s      \n",
      "\n",
      "2021-03-09 23:16:00 (7.82 MB/s) - ‘populations.txt’ saved [525/525]\n",
      "\n"
     ]
    }
   ],
   "source": [
    "# Download a file from the internet\n",
    "# Link to file on GDrive: https://drive.google.com/file/d/1kIMNI53gtTTNZrQfjB9ASh8C3K9osTB6/view?usp=sharing\n",
    "# URL Format: \"https://drive.google.com/uc?export=download&id=<fileId>\"\n",
    "!wget \"https://drive.google.com/uc?export=download&id=1kIMNI53gtTTNZrQfjB9ASh8C3K9osTB6\" -O populations.txt\n",
    "\n",
    "# for larger files, its slightly more complex and we will learn that later."
   ]
  },
  {
   "cell_type": "code",
   "execution_count": 2,
   "metadata": {
    "colab": {
     "base_uri": "https://localhost:8080/"
    },
    "id": "05b264ufd58V",
    "outputId": "2fae3fd9-f703-4f6c-8713-3e94dfe87533"
   },
   "outputs": [
    {
     "name": "stdout",
     "output_type": "stream",
     "text": [
      "total 2040\r\n",
      "drwxr-xr-x@  7 debnsuma  1896053708     224 Mar  8 07:06 \u001b[1m\u001b[36m9.4-numpy\u001b[m\u001b[m\r\n",
      "-rw-r--r--@  1 debnsuma  staff         1476 Mar  9 08:42 9.2-packages.ipynb\r\n",
      "-rw-r--r--@  1 debnsuma  staff         8975 Mar  9 08:43 9.3-File_Download_to_Colab.ipynb\r\n",
      "-rw-r--r--@  1 debnsuma  staff       122020 Mar  9 08:45 9.5-pyplot.ipynb\r\n",
      "drwxr-xr-x@  7 debnsuma  1896053708     224 Mar  9 08:46 \u001b[1m\u001b[36m9.6-pandas\u001b[m\u001b[m\r\n",
      "drwxr-xr-x@  4 debnsuma  1896053708     128 Mar  9 08:48 \u001b[1m\u001b[36m9.7-pandas-Dataframe_basics\u001b[m\u001b[m\r\n",
      "-rw-r--r--@  1 debnsuma  staff       888732 Mar  9 08:49 Pandas-DataFrame-Notes.pdf\r\n",
      "drwxr-xr-x@ 11 debnsuma  1896053708     352 Mar  9 08:49 \u001b[1m\u001b[36m9.8-pandas-Key operations on Dataframes\u001b[m\u001b[m\r\n",
      "-rw-r--r--@  1 debnsuma  staff         8327 Mar  9 23:15 9.1-modules.ipynb\r\n",
      "-rw-r--r--   1 debnsuma  staff          525 Mar  9 23:16 populations.txt\r\n"
     ]
    }
   ],
   "source": [
    "!ls -lrt"
   ]
  },
  {
   "cell_type": "code",
   "execution_count": 3,
   "metadata": {
    "colab": {
     "base_uri": "https://localhost:8080/"
    },
    "id": "0uTels8Pd9mL",
    "outputId": "c044061e-d0b4-4473-938c-eb8d15551658"
   },
   "outputs": [
    {
     "name": "stdout",
     "output_type": "stream",
     "text": [
      "# year\thare\tlynx\tcarrot\r\n",
      "1900\t30e3\t4e3\t48300\r\n",
      "1901\t47.2e3\t6.1e3\t48200\r\n",
      "1902\t70.2e3\t9.8e3\t41500\r\n",
      "1903\t77.4e3\t35.2e3\t38200\r\n",
      "1904\t36.3e3\t59.4e3\t40600\r\n",
      "1905\t20.6e3\t41.7e3\t39800\r\n",
      "1906\t18.1e3\t19e3\t38600\r\n",
      "1907\t21.4e3\t13e3\t42300\r\n",
      "1908\t22e3\t8.3e3\t44500\r\n",
      "1909\t25.4e3\t9.1e3\t42100\r\n",
      "1910\t27.1e3\t7.4e3\t46000\r\n",
      "1911\t40.3e3\t8e3\t46800\r\n",
      "1912\t57e3\t12.3e3\t43800\r\n",
      "1913\t76.6e3\t19.5e3\t40900\r\n",
      "1914\t52.3e3\t45.7e3\t39400\r\n",
      "1915\t19.5e3\t51.1e3\t39000\r\n",
      "1916\t11.2e3\t29.7e3\t36700\r\n",
      "1917\t7.6e3\t15.8e3\t41800\r\n",
      "1918\t14.6e3\t9.7e3\t43300\r\n",
      "1919\t16.2e3\t10.1e3\t41300\r\n",
      "1920\t24.7e3\t8.6e3\t47300\r\n"
     ]
    }
   ],
   "source": [
    "!cat populations.txt"
   ]
  },
  {
   "cell_type": "code",
   "execution_count": 4,
   "metadata": {
    "colab": {
     "base_uri": "https://localhost:8080/"
    },
    "id": "BtOVyBLrbWE6",
    "outputId": "8770569e-bfd6-4212-abd5-865f370faa32"
   },
   "outputs": [
    {
     "name": "stdout",
     "output_type": "stream",
     "text": [
      "--2021-03-09 23:16:14--  https://raw.githubusercontent.com/scipy-lectures/scipy-lecture-notes/master/data/women_percentage.txt\n",
      "Resolving raw.githubusercontent.com (raw.githubusercontent.com)... 185.199.111.133, 185.199.110.133, 185.199.109.133, ...\n",
      "Connecting to raw.githubusercontent.com (raw.githubusercontent.com)|185.199.111.133|:443... connected.\n",
      "HTTP request sent, awaiting response... 200 OK\n",
      "Length: 660 [text/plain]\n",
      "Saving to: ‘women_percentage.txt’\n",
      "\n",
      "women_percentage.tx 100%[===================>]     660  --.-KB/s    in 0s      \n",
      "\n",
      "2021-03-09 23:16:14 (15.7 MB/s) - ‘women_percentage.txt’ saved [660/660]\n",
      "\n"
     ]
    }
   ],
   "source": [
    "# Download file from internet\n",
    "# URL: https://raw.githubusercontent.com/scipy-lectures/scipy-lecture-notes/master/data/women_percentage.txt\n",
    "!wget \"https://raw.githubusercontent.com/scipy-lectures/scipy-lecture-notes/master/data/women_percentage.txt\" -O women_percentage.txt"
   ]
  },
  {
   "cell_type": "code",
   "execution_count": 5,
   "metadata": {
    "colab": {
     "base_uri": "https://localhost:8080/"
    },
    "id": "hutLR2djb5FY",
    "outputId": "d93745ba-7e83-4e81-9458-25cab1ba7148"
   },
   "outputs": [
    {
     "name": "stdout",
     "output_type": "stream",
     "text": [
      "total 2048\r\n",
      "drwxr-xr-x@  7 debnsuma  1896053708     224 Mar  8 07:06 \u001b[1m\u001b[36m9.4-numpy\u001b[m\u001b[m\r\n",
      "-rw-r--r--@  1 debnsuma  staff         1476 Mar  9 08:42 9.2-packages.ipynb\r\n",
      "-rw-r--r--@  1 debnsuma  staff         8975 Mar  9 08:43 9.3-File_Download_to_Colab.ipynb\r\n",
      "-rw-r--r--@  1 debnsuma  staff       122020 Mar  9 08:45 9.5-pyplot.ipynb\r\n",
      "drwxr-xr-x@  7 debnsuma  1896053708     224 Mar  9 08:46 \u001b[1m\u001b[36m9.6-pandas\u001b[m\u001b[m\r\n",
      "drwxr-xr-x@  4 debnsuma  1896053708     128 Mar  9 08:48 \u001b[1m\u001b[36m9.7-pandas-Dataframe_basics\u001b[m\u001b[m\r\n",
      "-rw-r--r--@  1 debnsuma  staff       888732 Mar  9 08:49 Pandas-DataFrame-Notes.pdf\r\n",
      "drwxr-xr-x@ 11 debnsuma  1896053708     352 Mar  9 08:49 \u001b[1m\u001b[36m9.8-pandas-Key operations on Dataframes\u001b[m\u001b[m\r\n",
      "-rw-r--r--@  1 debnsuma  staff         8327 Mar  9 23:15 9.1-modules.ipynb\r\n",
      "-rw-r--r--   1 debnsuma  staff          525 Mar  9 23:16 populations.txt\r\n",
      "-rw-r--r--   1 debnsuma  staff          660 Mar  9 23:16 women_percentage.txt\r\n"
     ]
    }
   ],
   "source": [
    "!ls -lrt"
   ]
  },
  {
   "cell_type": "code",
   "execution_count": 6,
   "metadata": {
    "colab": {
     "base_uri": "https://localhost:8080/"
    },
    "id": "0xZM_j_1b7Ff",
    "outputId": "f1d05b32-f21a-4832-f4b2-a0d30b1c89db"
   },
   "outputs": [
    {
     "name": "stdout",
     "output_type": "stream",
     "text": [
      "#2006\t2005\t2004\t2003\t2002\t2001\r\n",
      "38.2\t37.1\t37.1\t38.1\t36.7\t39.6\r\n",
      "26.9\t18.3\t24.4\t24.3\t24.2\t20.9\r\n",
      "26.2\t26.2\t25.6\t24.9\t24.4\t23.6\r\n",
      "27.4\t25.7\t25.6\t23.9\t23.0\t21.5\r\n",
      "28.0\t26.3\t24.4\t23.5\t22.3\t21.8\r\n",
      "28.0\t27.0\t25.2\t24.7\t24.5\t23.4\r\n",
      "31.9\t31.0\t30.9\t31.0\t30.6\t29.9\r\n",
      "23.5\t23.6\t23.6\t23.6\t23.6\t22.3\r\n",
      "26.6\t26.1\t25.7\t23.5\t24.8\t23.8\r\n",
      "52.9\t53.6\t53.6\t56.3\t54.7\t44.1\r\n",
      "41.0\t27.0\t27.0\t32.0\t31.4\t17.6\r\n",
      "40.4\t39.7\t38.7\t36.6\t35.7\t34.4\r\n",
      "32.1\t32.3\t32.3\t32.2\t31.7\t30.6\r\n",
      "17.4\t18.2\t19.1\t17.9\t18.2\t18.5\r\n",
      "50.1\t49.8\t49.9\t50.0\t50.6\t50.6\r\n",
      "25.2\t23.5\t24.3\t24.3\t22.3\t19.8\r\n",
      "37.8\t34.5\t34.1\t33.3\t30.5\t30.5\r\n",
      "16.3\t15.7\t15.6\t15.3\t15.1\t13.1\r\n",
      "14.8\t14.9\t14.6\t13.7\t14.1\t14\r\n",
      "51.4\t50.2\t50.0\t47.5\t49.2\t50.9\r\n",
      "33.5\t37.1\t32.9\t32.6\t32.3\t32.1\r\n",
      "\r\n"
     ]
    }
   ],
   "source": [
    "!cat women_percentage.txt"
   ]
  },
  {
   "cell_type": "code",
   "execution_count": null,
   "metadata": {},
   "outputs": [],
   "source": []
  }
 ],
 "metadata": {
  "colab": {
   "collapsed_sections": [],
   "name": "File Download to Colab.ipynb",
   "provenance": []
  },
  "kernelspec": {
   "display_name": "Python 3",
   "language": "python",
   "name": "python3"
  },
  "language_info": {
   "codemirror_mode": {
    "name": "ipython",
    "version": 3
   },
   "file_extension": ".py",
   "mimetype": "text/x-python",
   "name": "python",
   "nbconvert_exporter": "python",
   "pygments_lexer": "ipython3",
   "version": "3.8.3"
  }
 },
 "nbformat": 4,
 "nbformat_minor": 1
}
