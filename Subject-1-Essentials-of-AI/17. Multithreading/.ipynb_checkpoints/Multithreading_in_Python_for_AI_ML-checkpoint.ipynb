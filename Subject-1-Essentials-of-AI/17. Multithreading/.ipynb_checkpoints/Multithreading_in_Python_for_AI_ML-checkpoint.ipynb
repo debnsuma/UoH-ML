{
 "cells": [
  {
   "cell_type": "markdown",
   "metadata": {
    "colab": {},
    "colab_type": "code",
    "id": "BiIrUwlc5vxg"
   },
   "source": [
    "By AppliedAICourse.com"
   ]
  },
  {
   "cell_type": "code",
   "execution_count": 1,
   "metadata": {
    "colab": {
     "base_uri": "https://localhost:8080/",
     "height": 448
    },
    "colab_type": "code",
    "id": "BWtzAAvL6DOK",
    "outputId": "87d08196-2e5f-4ca0-fc5e-3a807addff14"
   },
   "outputs": [
    {
     "name": "stdout",
     "output_type": "stream",
     "text": [
      "Architecture:          x86_64\r\n",
      "CPU op-mode(s):        32-bit, 64-bit\r\n",
      "Byte Order:            Little Endian\r\n",
      "CPU(s):                8\r\n",
      "On-line CPU(s) list:   0-7\r\n",
      "Thread(s) per core:    2\r\n",
      "Core(s) per socket:    4\r\n",
      "Socket(s):             1\r\n",
      "NUMA node(s):          1\r\n",
      "Vendor ID:             GenuineIntel\r\n",
      "CPU family:            6\r\n",
      "Model:                 79\r\n",
      "Model name:            Intel(R) Xeon(R) CPU E5-2686 v4 @ 2.30GHz\r\n",
      "Stepping:              1\r\n",
      "CPU MHz:               2702.869\r\n",
      "CPU max MHz:           3000.0000\r\n",
      "CPU min MHz:           1200.0000\r\n",
      "BogoMIPS:              4600.01\r\n",
      "Hypervisor vendor:     Xen\r\n",
      "Virtualization type:   full\r\n",
      "L1d cache:             32K\r\n",
      "L1i cache:             32K\r\n",
      "L2 cache:              256K\r\n",
      "L3 cache:              46080K\r\n",
      "NUMA node0 CPU(s):     0-7\r\n",
      "Flags:                 fpu vme de pse tsc msr pae mce cx8 apic sep mtrr pge mca cmov pat pse36 clflush mmx fxsr sse sse2 ht syscall nx pdpe1gb rdtscp lm constant_tsc rep_good nopl xtopology nonstop_tsc cpuid aperfmperf pni pclmulqdq ssse3 fma cx16 pcid sse4_1 sse4_2 x2apic movbe popcnt tsc_deadline_timer aes xsave avx f16c rdrand hypervisor lahf_lm abm 3dnowprefetch cpuid_fault invpcid_single pti fsgsbase bmi1 hle avx2 smep bmi2 erms invpcid rtm rdseed adx xsaveopt\r\n"
     ]
    }
   ],
   "source": [
    "# Number of CPUs and Threads in Linux.\n",
    "# Refer: https://linux.die.net/man/1/lscpu\n",
    "!lscpu\n"
   ]
  },
  {
   "cell_type": "code",
   "execution_count": 5,
   "metadata": {},
   "outputs": [
    {
     "name": "stdout",
     "output_type": "stream",
     "text": [
      "Hardware:\r\n",
      "\r\n",
      "    Hardware Overview:\r\n",
      "\r\n",
      "      Model Name: MacBook Pro\r\n",
      "      Model Identifier: MacBookPro15,1\r\n",
      "      Processor Name: 6-Core Intel Core i7\r\n",
      "      Processor Speed: 2.6 GHz\r\n",
      "      Number of Processors: 1\r\n",
      "      Total Number of Cores: 6\r\n",
      "      L2 Cache (per Core): 256 KB\r\n",
      "      L3 Cache: 9 MB\r\n",
      "      Hyper-Threading Technology: Enabled\r\n",
      "      Memory: 16 GB\r\n",
      "      Boot ROM Version: 1037.147.1.0.0 (iBridge: 17.16.16065.0.0,0)\r\n",
      "      Serial Number (system): C02XN307JG5J\r\n",
      "      Hardware UUID: F0006400-93A8-535A-B85D-F101341AAC16\r\n",
      "      Activation Lock Status: Enabled\r\n",
      "\r\n"
     ]
    }
   ],
   "source": [
    "# for Mac\n",
    "# !system_profiler SPHardwareDataType; "
   ]
  },
  {
   "cell_type": "markdown",
   "metadata": {
    "colab_type": "text",
    "id": "d6rvY6mU9Ngm"
   },
   "source": [
    "## Mean of 100 Million observations"
   ]
  },
  {
   "cell_type": "code",
   "execution_count": 2,
   "metadata": {
    "colab": {
     "base_uri": "https://localhost:8080/",
     "height": 34
    },
    "colab_type": "code",
    "id": "3KofCQBP6zbT",
    "outputId": "53b60bdb-2155-4c3c-c667-b749d19ae9ae"
   },
   "outputs": [
    {
     "name": "stdout",
     "output_type": "stream",
     "text": [
      "(100000000,)\n"
     ]
    }
   ],
   "source": [
    "# Generate random 100MM data points \n",
    "import numpy as np\n",
    "n =100000000\n",
    "d = np.random.rand(n)\n",
    "print(d.shape)"
   ]
  },
  {
   "cell_type": "code",
   "execution_count": 7,
   "metadata": {
    "colab": {
     "base_uri": "https://localhost:8080/",
     "height": 51
    },
    "colab_type": "code",
    "id": "okpN0WRo9qYk",
    "outputId": "e6f38c2a-bab8-4253-9810-e7e9d93132f7"
   },
   "outputs": [
    {
     "name": "stdout",
     "output_type": "stream",
     "text": [
      "20.90457510948181\n",
      "0.49994777164597376\n"
     ]
    }
   ],
   "source": [
    "import time\n",
    "def mean():\n",
    "\n",
    "  #Sum using for loops. We can use inbuilt NumPy Sum opeartion for better speed.\n",
    "  sum = 0\n",
    "  n=d.size\n",
    "  for i in range(n):\n",
    "    sum +=d[i]\n",
    "\n",
    "  #Mean\n",
    "  mean = sum/n\n",
    "  return mean\n",
    "\n",
    "\n",
    "#Time the execution\n",
    "start_time = time.time()\n",
    "m = mean() # compute mean of 100MM numbers.\n",
    "end_time = time.time()\n",
    "print (end_time-start_time)\n",
    "print(m)"
   ]
  },
  {
   "cell_type": "markdown",
   "metadata": {
    "colab_type": "text",
    "id": "vic-5rdM-j27"
   },
   "source": [
    "### Multi-Processing Code"
   ]
  },
  {
   "cell_type": "code",
   "execution_count": 13,
   "metadata": {
    "colab": {
     "base_uri": "https://localhost:8080/",
     "height": 34
    },
    "colab_type": "code",
    "id": "f4m9X5dw-Pvh",
    "outputId": "1e7f4eb5-2063-41b8-f475-4df24e4a0a88"
   },
   "outputs": [
    {
     "name": "stdout",
     "output_type": "stream",
     "text": [
      "11.001178979873657\n",
      "0.4999477716457993\n"
     ]
    }
   ],
   "source": [
    "#Refer: https://docs.python.org/3/library/multiprocessing.html\n",
    "from multiprocessing import Process, Queue\n",
    "import math\n",
    "\n",
    "def mean_MP(s, e, q ):\n",
    "\n",
    "  #Sum using for loops. We can use inbuilt NumPy Sum opeartion for better speed.\n",
    "  sum = 0\n",
    "  for i in range(s,e+1):\n",
    "    sum +=d[i]\n",
    "\n",
    "  #Mean\n",
    "  mean = sum/(e-s+1)\n",
    "  q.put(mean)\n",
    "  return \n",
    "\n",
    "n1 = math.floor(n/2)\n",
    "\n",
    "q = Queue() #Queues are thread and process safe. For communicating between processes and threads.\n",
    "\n",
    "p1 = Process(target=mean_MP, args=(0, n1,q )) \n",
    "p2 = Process(target=mean_MP, args=(n1+1,n-1, q)) \n",
    "\n",
    "\n",
    "#Time the execution\n",
    "start_time = time.time()\n",
    "\n",
    "p1.start()\n",
    "p2.start()\n",
    "\n",
    "p1.join() # Wait till p1 finishes\n",
    "p2.join() \n",
    "\n",
    "m=0;\n",
    "while not q.empty():\n",
    "     m += q.get()\n",
    "\n",
    "m /= 2;\n",
    "    \n",
    "end_time = time.time()\n",
    "print (end_time-start_time)\n",
    "print(m)\n"
   ]
  },
  {
   "cell_type": "markdown",
   "metadata": {},
   "source": [
    "### Multi-Threaded Code"
   ]
  },
  {
   "cell_type": "code",
   "execution_count": 17,
   "metadata": {},
   "outputs": [
    {
     "name": "stdout",
     "output_type": "stream",
     "text": [
      "19.538660049438477\n",
      "0.4999477716457993\n"
     ]
    }
   ],
   "source": [
    "#Refer: https://docs.python.org/3/library/threading.html\n",
    "from threading import Thread\n",
    "\n",
    "\n",
    "means = [0,0];\n",
    "\n",
    "def mean_MT(s, e, threadNum ):\n",
    "\n",
    "  #Sum using for loops. We can use inbuilt NumPy Sum opeartion for better speed.\n",
    "  sum = 0\n",
    "  for i in range(s,e+1):\n",
    "    sum +=d[i]\n",
    "\n",
    "  #Mean\n",
    "  mean = sum/(e-s+1)\n",
    "  means[threadNum] = mean; # means is a shared varibale between the threads\n",
    "\n",
    "  return \n",
    "\n",
    "n1 = math.floor(n/2)\n",
    "\n",
    "t1 = Thread(target=mean_MT, args=(0, n1,0 ))  # Third apram is the thread number\n",
    "t2 = Thread(target=mean_MT, args=(n1+1,n-1,1)) \n",
    "\n",
    "#Time the execution\n",
    "start_time = time.time()\n",
    "\n",
    "t1.start()\n",
    "t2.start()\n",
    "\n",
    "t1.join() # Wait till t1 finishes\n",
    "t2.join() \n",
    "\n",
    "m = (means[0]+means[1])/2\n",
    "    \n",
    "end_time = time.time()\n",
    "print (end_time-start_time)\n",
    "print(m)\n",
    "\n"
   ]
  },
  {
   "cell_type": "markdown",
   "metadata": {},
   "source": [
    "## Joblib\n"
   ]
  },
  {
   "cell_type": "markdown",
   "metadata": {},
   "source": [
    "### Caching of function output values"
   ]
  },
  {
   "cell_type": "code",
   "execution_count": 19,
   "metadata": {},
   "outputs": [
    {
     "name": "stdout",
     "output_type": "stream",
     "text": [
      "________________________________________________________________________________\n",
      "[Memory] Calling square...\n",
      "square(array([[0., 0., 1.],\n",
      "       [1., 1., 1.],\n",
      "       [4., 2., 1.]]))\n",
      "___________________________________________________________square - 0.0s, 0.0min\n"
     ]
    }
   ],
   "source": [
    "\n",
    "#Transparent and fast disk-caching of output value\n",
    "# Refer: https://joblib.readthedocs.io/en/latest/\n",
    "from joblib import Memory\n",
    "cachedir = './'\n",
    "mem = Memory(cachedir)\n",
    "\n",
    "import numpy as np\n",
    "a = np.vander(np.arange(3)).astype(np.float)\n",
    "square = mem.cache(np.square)\n",
    "b = square(a)                                   "
   ]
  },
  {
   "cell_type": "code",
   "execution_count": 20,
   "metadata": {},
   "outputs": [],
   "source": [
    "c = square(a)\n",
    "# The above call did not trigger an evaluation"
   ]
  },
  {
   "cell_type": "markdown",
   "metadata": {},
   "source": [
    "### Simple Parallel programming for Loops"
   ]
  },
  {
   "cell_type": "code",
   "execution_count": 23,
   "metadata": {},
   "outputs": [
    {
     "name": "stdout",
     "output_type": "stream",
     "text": [
      "17.116321802139282\n"
     ]
    }
   ],
   "source": [
    "# Refer: https://joblib.readthedocs.io/en/latest/generated/joblib.Parallel.html\n",
    "\n",
    "import time\n",
    "from math import sqrt # inbuilt fucntion\n",
    "\n",
    "def f(i):\n",
    "    \n",
    "    # some computations  that take time\n",
    "    x=10000\n",
    "    p =1;\n",
    "    for j in range(x):\n",
    "        for k in range(j):\n",
    "            p *= k\n",
    "    \n",
    "    return sqrt(i ** 2);\n",
    "\n",
    "# Find sqrt of first n numbers\n",
    "n=10;\n",
    "\n",
    "start_time = time.time()\n",
    "\n",
    "for i in range(n):\n",
    "    f(i)\n",
    "\n",
    "end_time = time.time()\n",
    "print (end_time-start_time)"
   ]
  },
  {
   "cell_type": "code",
   "execution_count": 24,
   "metadata": {},
   "outputs": [
    {
     "name": "stdout",
     "output_type": "stream",
     "text": [
      "9.58085012435913\n"
     ]
    }
   ],
   "source": [
    "from joblib import Parallel, delayed\n",
    "\n",
    "start_time = time.time()\n",
    "\n",
    "a = Parallel(n_jobs=2)(delayed(f)(i) for i in range(n)) \n",
    "\n",
    "# Why we need dealyed(): https://stackoverflow.com/questions/42220458/what-does-the-delayed-function-do-when-used-with-joblib-in-python\n",
    "\n",
    "end_time = time.time()\n",
    "print (end_time-start_time)"
   ]
  },
  {
   "cell_type": "code",
   "execution_count": 25,
   "metadata": {},
   "outputs": [
    {
     "name": "stdout",
     "output_type": "stream",
     "text": [
      "17.342177867889404\n"
     ]
    }
   ],
   "source": [
    "# Multi threading: GIL is an issue\n",
    "start_time = time.time()\n",
    "\n",
    "a = Parallel(n_jobs=2,prefer=\"threads\")(delayed(f)(i ** 2) for i in range(n))\n",
    "\n",
    "end_time = time.time()\n",
    "print (end_time-start_time)"
   ]
  },
  {
   "cell_type": "code",
   "execution_count": 26,
   "metadata": {},
   "outputs": [
    {
     "name": "stdout",
     "output_type": "stream",
     "text": [
      "4.557589054107666\n"
     ]
    }
   ],
   "source": [
    "\n",
    "# 6 jobs\n",
    "\n",
    "from joblib import Parallel, delayed\n",
    "\n",
    "start_time = time.time()\n",
    "\n",
    "a = Parallel(n_jobs=6)(delayed(f)(i ** 2) for i in range(n)) \n",
    "\n",
    "# Why we need dealyed(): https://stackoverflow.com/questions/42220458/what-does-the-delayed-function-do-when-used-with-joblib-in-python\n",
    "\n",
    "end_time = time.time()\n",
    "print (end_time-start_time)"
   ]
  },
  {
   "cell_type": "code",
   "execution_count": null,
   "metadata": {},
   "outputs": [],
   "source": []
  }
 ],
 "metadata": {
  "colab": {
   "collapsed_sections": [],
   "name": "Multithreading in Python for AI/ML.ipynb",
   "provenance": []
  },
  "kernelspec": {
   "display_name": "conda_python3",
   "language": "python",
   "name": "conda_python3"
  },
  "language_info": {
   "codemirror_mode": {
    "name": "ipython",
    "version": 3
   },
   "file_extension": ".py",
   "mimetype": "text/x-python",
   "name": "python",
   "nbconvert_exporter": "python",
   "pygments_lexer": "ipython3",
   "version": "3.6.13"
  }
 },
 "nbformat": 4,
 "nbformat_minor": 1
}
